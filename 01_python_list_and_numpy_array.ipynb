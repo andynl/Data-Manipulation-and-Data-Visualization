{
 "cells": [
  {
   "cell_type": "markdown",
   "id": "9bc91cc1",
   "metadata": {},
   "source": [
    "# Basic List"
   ]
  },
  {
   "cell_type": "code",
   "execution_count": 26,
   "id": "4191c231",
   "metadata": {},
   "outputs": [
    {
     "name": "stdout",
     "output_type": "stream",
     "text": [
      "['Lisa', 20, 'Mery', 30, 'Mark', 60, 'Shita', 10]\n"
     ]
    }
   ],
   "source": [
    "# Basic List\n",
    "age_name = [\"Lisa\", 20, \"Mery\", 30, \"Mark\", 60, \"Shita\", 10]\n",
    "print(age_name)"
   ]
  },
  {
   "cell_type": "code",
   "execution_count": 27,
   "id": "be182421",
   "metadata": {},
   "outputs": [
    {
     "name": "stdout",
     "output_type": "stream",
     "text": [
      "[['Lisa', 20], ['Mery', 30], ['Mark', 60], ['Shita', 10]]\n"
     ]
    }
   ],
   "source": [
    "# List of List (Sub-Lists)\n",
    "age_name = [\n",
    "    [\"Lisa\", 20],\n",
    "    [\"Mery\", 30],\n",
    "    [\"Mark\", 60],\n",
    "    [\"Shita\", 10],\n",
    "]\n",
    "\n",
    "print(age_name)"
   ]
  },
  {
   "cell_type": "code",
   "execution_count": 28,
   "id": "2951d49a",
   "metadata": {},
   "outputs": [
    {
     "name": "stdout",
     "output_type": "stream",
     "text": [
      "[18.0, 20.0, 10.75, 9.5]\n",
      "['dapur', 18.0, 'ruangan tamu', 20.0, 'kamar tidur', 10.75, 'kamar mandi', 9.5]\n"
     ]
    }
   ],
   "source": [
    "# List from variable\n",
    "kitchen = 18.0\n",
    "livingroom = 20.0\n",
    "bedroom = 10.75\n",
    "bathroom = 9.50\n",
    "\n",
    "room = [kitchen, livingroom, bedroom, bathroom]\n",
    "print(room)\n",
    "\n",
    "room_2 = [\"dapur\", kitchen, \"ruangan tamu\", livingroom, \"kamar tidur\", bedroom, \"kamar mandi\", bathroom]\n",
    "print(room_2)"
   ]
  },
  {
   "cell_type": "markdown",
   "id": "e986208a",
   "metadata": {},
   "source": [
    "# Basic Subsetting List"
   ]
  },
  {
   "cell_type": "code",
   "execution_count": 29,
   "id": "3a376afc",
   "metadata": {},
   "outputs": [
    {
     "data": {
      "text/plain": [
       "'Lisa'"
      ]
     },
     "execution_count": 29,
     "metadata": {},
     "output_type": "execute_result"
    }
   ],
   "source": [
    "age_name = [\"Lisa\", 20, \"Mery\", 30, \"Mark\", 60, \"Shita\", 10]\n",
    "age_name[0]"
   ]
  },
  {
   "cell_type": "code",
   "execution_count": 30,
   "id": "67bc350f",
   "metadata": {},
   "outputs": [
    {
     "data": {
      "text/plain": [
       "'Mark'"
      ]
     },
     "execution_count": 30,
     "metadata": {},
     "output_type": "execute_result"
    }
   ],
   "source": [
    "age_name[4]"
   ]
  },
  {
   "cell_type": "code",
   "execution_count": 31,
   "id": "9f99bdf2",
   "metadata": {},
   "outputs": [
    {
     "data": {
      "text/plain": [
       "10"
      ]
     },
     "execution_count": 31,
     "metadata": {},
     "output_type": "execute_result"
    }
   ],
   "source": [
    "# Subsetting Last Index\n",
    "age_name[-1]"
   ]
  },
  {
   "cell_type": "code",
   "execution_count": 32,
   "id": "013f9b25",
   "metadata": {},
   "outputs": [
    {
     "data": {
      "text/plain": [
       "'Shita'"
      ]
     },
     "execution_count": 32,
     "metadata": {},
     "output_type": "execute_result"
    }
   ],
   "source": [
    "# Subsetting 2nd order from last index\n",
    "age_name[-2]"
   ]
  },
  {
   "cell_type": "markdown",
   "id": "5dc99785",
   "metadata": {},
   "source": [
    "# Slicing List"
   ]
  },
  {
   "cell_type": "code",
   "execution_count": 33,
   "id": "5a0c3f9c",
   "metadata": {},
   "outputs": [
    {
     "data": {
      "text/plain": [
       "['Mark', 60]"
      ]
     },
     "execution_count": 33,
     "metadata": {},
     "output_type": "execute_result"
    }
   ],
   "source": [
    "age_name = [\"Lisa\", 20, \"Mery\", 30, \"Mark\", 60, \"Shita\", 10]\n",
    "age_name[4:6]"
   ]
  },
  {
   "cell_type": "code",
   "execution_count": 34,
   "id": "78e0a212",
   "metadata": {},
   "outputs": [
    {
     "data": {
      "text/plain": [
       "['Lisa', 20, 'Mery', 30, 'Mark']"
      ]
     },
     "execution_count": 34,
     "metadata": {},
     "output_type": "execute_result"
    }
   ],
   "source": [
    "age_name[0:5]"
   ]
  },
  {
   "cell_type": "code",
   "execution_count": 35,
   "id": "392b6ab7",
   "metadata": {},
   "outputs": [
    {
     "data": {
      "text/plain": [
       "[20, 'Mery', 30, 'Mark', 60, 'Shita', 10]"
      ]
     },
     "execution_count": 35,
     "metadata": {},
     "output_type": "execute_result"
    }
   ],
   "source": [
    "age_name[1:]"
   ]
  },
  {
   "cell_type": "code",
   "execution_count": 36,
   "id": "46bb50ba",
   "metadata": {},
   "outputs": [
    {
     "data": {
      "text/plain": [
       "['Lisa', 20, 'Mery', 30, 'Mark']"
      ]
     },
     "execution_count": 36,
     "metadata": {},
     "output_type": "execute_result"
    }
   ],
   "source": [
    "age_name[:5]"
   ]
  },
  {
   "cell_type": "markdown",
   "id": "6cd926fd",
   "metadata": {},
   "source": [
    "# Subset and Calculating List"
   ]
  },
  {
   "cell_type": "code",
   "execution_count": 37,
   "id": "e8d85842",
   "metadata": {},
   "outputs": [
    {
     "name": "stdout",
     "output_type": "stream",
     "text": [
      "38.0\n"
     ]
    }
   ],
   "source": [
    "room_area = ['dapur', 18.0, 'ruangan tamu', 20.0, 'kamar tidur', 10.75, 'kamar mandi', 9.5]\n",
    "service_area = room_area[1] + room_2[3]\n",
    "print(service_area)"
   ]
  },
  {
   "cell_type": "markdown",
   "id": "5f725826",
   "metadata": {},
   "source": [
    "# Changing List Elements"
   ]
  },
  {
   "cell_type": "code",
   "execution_count": 38,
   "id": "f5958aa8",
   "metadata": {},
   "outputs": [
    {
     "name": "stdout",
     "output_type": "stream",
     "text": [
      "['Lisa', 8.2, 'Mery', 7.7, 'Mark', 8.5, 'Shita', 7.5, 'Jane', 6.5]\n"
     ]
    }
   ],
   "source": [
    "student_grade = [\"Lisa\", 9.2, \"Mery\", 7.7, \"Mark\", 8.5, \"Shita\", 7.5, \"Jane\", 6.5]\n",
    "student_grade[1] = 8.2\n",
    "print(student_grade)"
   ]
  },
  {
   "cell_type": "markdown",
   "id": "b5557e0e",
   "metadata": {},
   "source": [
    "# Changing Multiple List Elements"
   ]
  },
  {
   "cell_type": "code",
   "execution_count": 39,
   "id": "712ebd82",
   "metadata": {},
   "outputs": [
    {
     "name": "stdout",
     "output_type": "stream",
     "text": [
      "['Lisa', 8.2, 'Maria', 8.8, 'Mark', 8.5, 'Shita', 7.5, 'Jane', 6.5]\n"
     ]
    }
   ],
   "source": [
    "student_grade[2:4] = \"Maria\", 8.8\n",
    "print(student_grade)"
   ]
  },
  {
   "cell_type": "markdown",
   "id": "da24f31e",
   "metadata": {},
   "source": [
    "# Extending List Elements"
   ]
  },
  {
   "cell_type": "code",
   "execution_count": 40,
   "id": "a6bf9cc5",
   "metadata": {},
   "outputs": [
    {
     "name": "stdout",
     "output_type": "stream",
     "text": [
      "['Lisa', 8.2, 'Maria', 8.8, 'Mark', 8.5, 'Shita', 7.5, 'Jane', 6.5, 'Jack', 7.0]\n"
     ]
    }
   ],
   "source": [
    "total_student = student_grade + [\"Jack\", 7.0]\n",
    "print(total_student)"
   ]
  },
  {
   "cell_type": "markdown",
   "id": "dc432bdf",
   "metadata": {},
   "source": [
    "# Removing List Elements"
   ]
  },
  {
   "cell_type": "code",
   "execution_count": 41,
   "id": "3737b6ab",
   "metadata": {},
   "outputs": [
    {
     "name": "stdout",
     "output_type": "stream",
     "text": [
      "['Lisa', 8.2, 'Maria', 8.8, 'Shita', 7.5, 'Jane', 6.5]\n"
     ]
    }
   ],
   "source": [
    "del(student_grade[4:6])\n",
    "print(student_grade)"
   ]
  },
  {
   "cell_type": "markdown",
   "id": "6d3b01f1",
   "metadata": {},
   "source": [
    "# NumPy Array"
   ]
  },
  {
   "cell_type": "code",
   "execution_count": 44,
   "id": "470bb01f",
   "metadata": {},
   "outputs": [
    {
     "name": "stdout",
     "output_type": "stream",
     "text": [
      "[16.64932362 19.53125    19.03114187 20.56932966 20.76124567 17.36111111]\n"
     ]
    }
   ],
   "source": [
    "import numpy as np\n",
    "\n",
    "height = np.array([1.55, 1.60, 1.70, 1.65, 1.70, 1.68])\n",
    "weight = np.array([40, 50, 55, 56, 60, 49])\n",
    "\n",
    "BMI = weight / height ** 2\n",
    "\n",
    "print(BMI)"
   ]
  },
  {
   "cell_type": "code",
   "execution_count": 45,
   "id": "66e4da63",
   "metadata": {},
   "outputs": [
    {
     "data": {
      "text/plain": [
       "array(['saya', '100', 'True'], dtype='<U11')"
      ]
     },
     "execution_count": 45,
     "metadata": {},
     "output_type": "execute_result"
    }
   ],
   "source": [
    "# NumPy Array Limitation\n",
    "np.array([\"saya\", 100, True])"
   ]
  },
  {
   "cell_type": "code",
   "execution_count": 46,
   "id": "2b989a34",
   "metadata": {},
   "outputs": [
    {
     "data": {
      "text/plain": [
       "array([  1, 100,  20])"
      ]
     },
     "execution_count": 46,
     "metadata": {},
     "output_type": "execute_result"
    }
   ],
   "source": [
    "np.array([True, 100, 20])"
   ]
  },
  {
   "cell_type": "code",
   "execution_count": 50,
   "id": "f9e91f7f",
   "metadata": {},
   "outputs": [
    {
     "name": "stdout",
     "output_type": "stream",
     "text": [
      "[15000 30000 13000 82000 93500]\n"
     ]
    }
   ],
   "source": [
    "# Calculating NumPy Array\n",
    "kids_snack = np.array([5000, 10000, 3000, 2000, 3500])\n",
    "food_shopping = np.array([10000, 20000, 10000, 80000, 90000])\n",
    "\n",
    "daily_expense = kids_snack + food_shopping\n",
    "print(expense)"
   ]
  },
  {
   "cell_type": "code",
   "execution_count": 51,
   "id": "b6ece142",
   "metadata": {},
   "outputs": [
    {
     "name": "stdout",
     "output_type": "stream",
     "text": [
      "[ 450000  900000  390000 2460000 2805000]\n"
     ]
    }
   ],
   "source": [
    "monthly_expense = daily_expense * 30\n",
    "print(monthly_expense)"
   ]
  },
  {
   "cell_type": "code",
   "execution_count": 52,
   "id": "4e0f01ad",
   "metadata": {},
   "outputs": [
    {
     "name": "stdout",
     "output_type": "stream",
     "text": [
      "[112500. 225000.  97500. 615000. 701250.]\n"
     ]
    }
   ],
   "source": [
    "weekly_expense = monthly_expense / 4\n",
    "print(weekly_expense)"
   ]
  },
  {
   "cell_type": "code",
   "execution_count": 53,
   "id": "f9c32032",
   "metadata": {},
   "outputs": [
    {
     "data": {
      "text/plain": [
       "array([1.6, 1.7])"
      ]
     },
     "execution_count": 53,
     "metadata": {},
     "output_type": "execute_result"
    }
   ],
   "source": [
    "# Subsetting NumPy Array with [] Square Bracket\n",
    "height = np.array([1.55, 1.60, 1.70, 1.65, 1.70, 1.68])\n",
    "height[1:3]"
   ]
  },
  {
   "cell_type": "code",
   "execution_count": 55,
   "id": "fdd9842e",
   "metadata": {},
   "outputs": [
    {
     "name": "stdout",
     "output_type": "stream",
     "text": [
      "[False False False  True  True  True]\n"
     ]
    }
   ],
   "source": [
    "# Subsetting with Comparison Operators Boolean\n",
    "weight = np.array([40, 50, 55, 100, 98, 150])\n",
    "\n",
    "obesity = weight > 60\n",
    "print(obesity)"
   ]
  },
  {
   "cell_type": "markdown",
   "id": "5a88e0ec",
   "metadata": {},
   "source": [
    "# NumPy Multidimensional Array"
   ]
  },
  {
   "cell_type": "code",
   "execution_count": 56,
   "id": "9a98036b",
   "metadata": {},
   "outputs": [
    {
     "data": {
      "text/plain": [
       "(4, 2)"
      ]
     },
     "execution_count": 56,
     "metadata": {},
     "output_type": "execute_result"
    }
   ],
   "source": [
    "# 2D NumPy Array\n",
    "basketball_team = [\n",
    "    [180, 68.4],\n",
    "    [170, 62],\n",
    "    [185, 66.5],\n",
    "    [188, 69.4]\n",
    "]\n",
    "\n",
    "np_basketball_team = np.array(basketball_team)\n",
    "np_basketball_team.shape"
   ]
  },
  {
   "cell_type": "code",
   "execution_count": 58,
   "id": "cf3d609d",
   "metadata": {},
   "outputs": [
    {
     "data": {
      "text/plain": [
       "62.0"
      ]
     },
     "execution_count": 58,
     "metadata": {},
     "output_type": "execute_result"
    }
   ],
   "source": [
    "# Subsetting 2D NumPy Array (Rows, Columns)\n",
    "np_basketball_team[1, 1]"
   ]
  },
  {
   "cell_type": "code",
   "execution_count": 64,
   "id": "345b6069",
   "metadata": {},
   "outputs": [
    {
     "data": {
      "text/plain": [
       "array([180., 170., 185., 188.])"
      ]
     },
     "execution_count": 64,
     "metadata": {},
     "output_type": "execute_result"
    }
   ],
   "source": [
    "# artinya kita subset seluruh row dari column pertama\n",
    "np_basketball_team[:, 0]"
   ]
  },
  {
   "cell_type": "code",
   "execution_count": 65,
   "id": "4ae5fd80",
   "metadata": {},
   "outputs": [
    {
     "data": {
      "text/plain": [
       "array([180. ,  68.4])"
      ]
     },
     "execution_count": 65,
     "metadata": {},
     "output_type": "execute_result"
    }
   ],
   "source": [
    "# artinya kita subset row pertama dari seluruh column\n",
    "np_basketball_team[0, :]"
   ]
  },
  {
   "cell_type": "code",
   "execution_count": 66,
   "id": "4df6aa30",
   "metadata": {},
   "outputs": [],
   "source": [
    "# Calculating 2D NumPy Array\n",
    "height_meter = np_basketball_team[:, 0] / 100"
   ]
  },
  {
   "cell_type": "code",
   "execution_count": 70,
   "id": "700bc7d9",
   "metadata": {},
   "outputs": [
    {
     "data": {
      "text/plain": [
       "array([21.11111111, 21.4532872 , 19.43024105, 19.63558171])"
      ]
     },
     "execution_count": 70,
     "metadata": {},
     "output_type": "execute_result"
    }
   ],
   "source": [
    "np_basketball_team[:, 1] / height_meter ** 2"
   ]
  },
  {
   "cell_type": "code",
   "execution_count": 71,
   "id": "f57f1c4c",
   "metadata": {},
   "outputs": [
    {
     "data": {
      "text/plain": [
       "123.6625"
      ]
     },
     "execution_count": 71,
     "metadata": {},
     "output_type": "execute_result"
    }
   ],
   "source": [
    "# NumPy Basic Statistical Functions\n",
    "np.mean(basketball_team)"
   ]
  },
  {
   "cell_type": "code",
   "execution_count": 72,
   "id": "13f3c184",
   "metadata": {},
   "outputs": [
    {
     "data": {
      "text/plain": [
       "119.7"
      ]
     },
     "execution_count": 72,
     "metadata": {},
     "output_type": "execute_result"
    }
   ],
   "source": [
    "np.median(basketball_team)"
   ]
  },
  {
   "cell_type": "code",
   "execution_count": 73,
   "id": "f06c12cf",
   "metadata": {},
   "outputs": [
    {
     "data": {
      "text/plain": [
       "57.326759403877"
      ]
     },
     "execution_count": 73,
     "metadata": {},
     "output_type": "execute_result"
    }
   ],
   "source": [
    "np.std(basketball_team)"
   ]
  }
 ],
 "metadata": {
  "kernelspec": {
   "display_name": "Python 3",
   "language": "python",
   "name": "python3"
  },
  "language_info": {
   "codemirror_mode": {
    "name": "ipython",
    "version": 3
   },
   "file_extension": ".py",
   "mimetype": "text/x-python",
   "name": "python",
   "nbconvert_exporter": "python",
   "pygments_lexer": "ipython3",
   "version": "3.7.7"
  }
 },
 "nbformat": 4,
 "nbformat_minor": 5
}
